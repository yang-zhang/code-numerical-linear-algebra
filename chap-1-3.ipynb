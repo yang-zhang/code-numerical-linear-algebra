{
 "cells": [
  {
   "cell_type": "markdown",
   "metadata": {},
   "source": [
    "1D\n",
    "- (i) Each entry of AB is the product of a row and a column: (AB)i j = (row i of A) times (column j of B)\n",
    "- (ii) Each column of AB is the product of a matrix and a column: column j of AB = A times (column j of B)\n",
    "- (iii) Each row of AB is the product of a row and a matrix: row i of AB = (row i of A) times B."
   ]
  },
  {
   "cell_type": "markdown",
   "metadata": {},
   "source": [
    "In MATLAB, the invertibility test is to find n nonzero pivots. Elimination produces those pivots before the determinant appears."
   ]
  },
  {
   "cell_type": "markdown",
   "metadata": {},
   "source": [
    "In my experience, most scientific problems that start with a rectangular matrix R end up with RTR or RRT or both."
   ]
  },
  {
   "cell_type": "markdown",
   "metadata": {},
   "source": [
    "3C Fundamental theorem of orthogonality The row space is orthogonal to the nullspace (in Rn). The column space is orthogonal to the left nullspace (in Rm)."
   ]
  },
  {
   "cell_type": "code",
   "execution_count": null,
   "metadata": {},
   "outputs": [],
   "source": []
  }
 ],
 "metadata": {
  "kernelspec": {
   "display_name": "Python 3",
   "language": "python",
   "name": "python3"
  },
  "language_info": {
   "codemirror_mode": {
    "name": "ipython",
    "version": 3
   },
   "file_extension": ".py",
   "mimetype": "text/x-python",
   "name": "python",
   "nbconvert_exporter": "python",
   "pygments_lexer": "ipython3",
   "version": "3.6.4"
  },
  "toc": {
   "base_numbering": 1,
   "nav_menu": {},
   "number_sections": true,
   "sideBar": true,
   "skip_h1_title": false,
   "title_cell": "Table of Contents",
   "title_sidebar": "Contents",
   "toc_cell": false,
   "toc_position": {},
   "toc_section_display": true,
   "toc_window_display": false
  }
 },
 "nbformat": 4,
 "nbformat_minor": 2
}
